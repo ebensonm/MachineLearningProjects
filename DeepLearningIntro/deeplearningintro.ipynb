{
  "nbformat": 4,
  "nbformat_minor": 0,
  "metadata": {
    "accelerator": "GPU",
    "colab": {
      "name": "deeplearningintro0.ipynb",
      "provenance": [],
      "collapsed_sections": []
    },
    "kernelspec": {
      "display_name": "Python 3",
      "language": "python",
      "name": "python3"
    },
    "language_info": {
      "codemirror_mode": {
        "name": "ipython",
        "version": 3
      },
      "file_extension": ".py",
      "mimetype": "text/x-python",
      "name": "python",
      "nbconvert_exporter": "python",
      "pygments_lexer": "ipython3",
      "version": "3.8.5"
    },
    "widgets": {
      "application/vnd.jupyter.widget-state+json": {
        "493ec0818a7c42c59a39627ad36d122a": {
          "model_module": "@jupyter-widgets/controls",
          "model_name": "HBoxModel",
          "state": {
            "_view_name": "HBoxView",
            "_dom_classes": [],
            "_model_name": "HBoxModel",
            "_view_module": "@jupyter-widgets/controls",
            "_model_module_version": "1.5.0",
            "_view_count": null,
            "_view_module_version": "1.5.0",
            "box_style": "",
            "layout": "IPY_MODEL_0cf325f714d44f3080cf7b9e3c317ac6",
            "_model_module": "@jupyter-widgets/controls",
            "children": [
              "IPY_MODEL_5aae33f104524091af6dd7534d019b25",
              "IPY_MODEL_a8393547abbc4ce89fa9105a72d1b8ed"
            ]
          }
        },
        "0cf325f714d44f3080cf7b9e3c317ac6": {
          "model_module": "@jupyter-widgets/base",
          "model_name": "LayoutModel",
          "state": {
            "_view_name": "LayoutView",
            "grid_template_rows": null,
            "right": null,
            "justify_content": null,
            "_view_module": "@jupyter-widgets/base",
            "overflow": null,
            "_model_module_version": "1.2.0",
            "_view_count": null,
            "flex_flow": null,
            "width": null,
            "min_width": null,
            "border": null,
            "align_items": null,
            "bottom": null,
            "_model_module": "@jupyter-widgets/base",
            "top": null,
            "grid_column": null,
            "overflow_y": null,
            "overflow_x": null,
            "grid_auto_flow": null,
            "grid_area": null,
            "grid_template_columns": null,
            "flex": null,
            "_model_name": "LayoutModel",
            "justify_items": null,
            "grid_row": null,
            "max_height": null,
            "align_content": null,
            "visibility": null,
            "align_self": null,
            "height": null,
            "min_height": null,
            "padding": null,
            "grid_auto_rows": null,
            "grid_gap": null,
            "max_width": null,
            "order": null,
            "_view_module_version": "1.2.0",
            "grid_template_areas": null,
            "object_position": null,
            "object_fit": null,
            "grid_auto_columns": null,
            "margin": null,
            "display": null,
            "left": null
          }
        },
        "5aae33f104524091af6dd7534d019b25": {
          "model_module": "@jupyter-widgets/controls",
          "model_name": "FloatProgressModel",
          "state": {
            "_view_name": "ProgressView",
            "style": "IPY_MODEL_bacfad69dcc44fda89167c1c2cb1eb54",
            "_dom_classes": [],
            "description": "",
            "_model_name": "FloatProgressModel",
            "bar_style": "success",
            "max": 170498071,
            "_view_module": "@jupyter-widgets/controls",
            "_model_module_version": "1.5.0",
            "value": 170498071,
            "_view_count": null,
            "_view_module_version": "1.5.0",
            "orientation": "horizontal",
            "min": 0,
            "description_tooltip": null,
            "_model_module": "@jupyter-widgets/controls",
            "layout": "IPY_MODEL_c9336981222b4854b42dea2db30df895"
          }
        },
        "a8393547abbc4ce89fa9105a72d1b8ed": {
          "model_module": "@jupyter-widgets/controls",
          "model_name": "HTMLModel",
          "state": {
            "_view_name": "HTMLView",
            "style": "IPY_MODEL_1b5edef3e538401aaf2c77eea90b3f2d",
            "_dom_classes": [],
            "description": "",
            "_model_name": "HTMLModel",
            "placeholder": "​",
            "_view_module": "@jupyter-widgets/controls",
            "_model_module_version": "1.5.0",
            "value": " 170499072/? [09:19&lt;00:00, 304545.31it/s]",
            "_view_count": null,
            "_view_module_version": "1.5.0",
            "description_tooltip": null,
            "_model_module": "@jupyter-widgets/controls",
            "layout": "IPY_MODEL_1c97f643c89e4a46a147339e3bc597af"
          }
        },
        "bacfad69dcc44fda89167c1c2cb1eb54": {
          "model_module": "@jupyter-widgets/controls",
          "model_name": "ProgressStyleModel",
          "state": {
            "_view_name": "StyleView",
            "_model_name": "ProgressStyleModel",
            "description_width": "initial",
            "_view_module": "@jupyter-widgets/base",
            "_model_module_version": "1.5.0",
            "_view_count": null,
            "_view_module_version": "1.2.0",
            "bar_color": null,
            "_model_module": "@jupyter-widgets/controls"
          }
        },
        "c9336981222b4854b42dea2db30df895": {
          "model_module": "@jupyter-widgets/base",
          "model_name": "LayoutModel",
          "state": {
            "_view_name": "LayoutView",
            "grid_template_rows": null,
            "right": null,
            "justify_content": null,
            "_view_module": "@jupyter-widgets/base",
            "overflow": null,
            "_model_module_version": "1.2.0",
            "_view_count": null,
            "flex_flow": null,
            "width": null,
            "min_width": null,
            "border": null,
            "align_items": null,
            "bottom": null,
            "_model_module": "@jupyter-widgets/base",
            "top": null,
            "grid_column": null,
            "overflow_y": null,
            "overflow_x": null,
            "grid_auto_flow": null,
            "grid_area": null,
            "grid_template_columns": null,
            "flex": null,
            "_model_name": "LayoutModel",
            "justify_items": null,
            "grid_row": null,
            "max_height": null,
            "align_content": null,
            "visibility": null,
            "align_self": null,
            "height": null,
            "min_height": null,
            "padding": null,
            "grid_auto_rows": null,
            "grid_gap": null,
            "max_width": null,
            "order": null,
            "_view_module_version": "1.2.0",
            "grid_template_areas": null,
            "object_position": null,
            "object_fit": null,
            "grid_auto_columns": null,
            "margin": null,
            "display": null,
            "left": null
          }
        },
        "1b5edef3e538401aaf2c77eea90b3f2d": {
          "model_module": "@jupyter-widgets/controls",
          "model_name": "DescriptionStyleModel",
          "state": {
            "_view_name": "StyleView",
            "_model_name": "DescriptionStyleModel",
            "description_width": "",
            "_view_module": "@jupyter-widgets/base",
            "_model_module_version": "1.5.0",
            "_view_count": null,
            "_view_module_version": "1.2.0",
            "_model_module": "@jupyter-widgets/controls"
          }
        },
        "1c97f643c89e4a46a147339e3bc597af": {
          "model_module": "@jupyter-widgets/base",
          "model_name": "LayoutModel",
          "state": {
            "_view_name": "LayoutView",
            "grid_template_rows": null,
            "right": null,
            "justify_content": null,
            "_view_module": "@jupyter-widgets/base",
            "overflow": null,
            "_model_module_version": "1.2.0",
            "_view_count": null,
            "flex_flow": null,
            "width": null,
            "min_width": null,
            "border": null,
            "align_items": null,
            "bottom": null,
            "_model_module": "@jupyter-widgets/base",
            "top": null,
            "grid_column": null,
            "overflow_y": null,
            "overflow_x": null,
            "grid_auto_flow": null,
            "grid_area": null,
            "grid_template_columns": null,
            "flex": null,
            "_model_name": "LayoutModel",
            "justify_items": null,
            "grid_row": null,
            "max_height": null,
            "align_content": null,
            "visibility": null,
            "align_self": null,
            "height": null,
            "min_height": null,
            "padding": null,
            "grid_auto_rows": null,
            "grid_gap": null,
            "max_width": null,
            "order": null,
            "_view_module_version": "1.2.0",
            "grid_template_areas": null,
            "object_position": null,
            "object_fit": null,
            "grid_auto_columns": null,
            "margin": null,
            "display": null,
            "left": null
          }
        }
      }
    }
  },
  "cells": [
    {
      "cell_type": "code",
      "metadata": {
        "id": "mTEKNr9cHvBg"
      },
      "source": [
        "import torch\n",
        "import torch.nn as nn\n",
        "import torch.nn.functional as F \n",
        "import torch.optim as optim\n",
        "from torchvision import datasets, transforms\n",
        "from torch.utils.data import DataLoader, RandomSampler, Dataset\n",
        "import numpy as np\n",
        "import os\n",
        "import matplotlib.pyplot as plt\n",
        "from tqdm import tqdm\n",
        "import copy\n",
        "import os\n",
        "#assert torch.cuda.is_available()"
      ],
      "execution_count": 14,
      "outputs": []
    },
    {
      "cell_type": "markdown",
      "metadata": {
        "id": "5_83nhfH4GXe"
      },
      "source": [
        "# Problem 1\n",
        "Download the CIFAR10 training and test datasets.\n",
        "Transform them into tensors, normalize them as described above in the code, and create DataLoaders for each one. \n",
        "For the training set, use a batch size of 32, and for the test set, use a batch size of 1."
      ]
    },
    {
      "cell_type": "code",
      "metadata": {
        "id": "md5EnYI2Rt3w",
        "colab": {
          "base_uri": "https://localhost:8080/",
          "height": 171,
          "referenced_widgets": [
            "493ec0818a7c42c59a39627ad36d122a",
            "0cf325f714d44f3080cf7b9e3c317ac6",
            "5aae33f104524091af6dd7534d019b25",
            "a8393547abbc4ce89fa9105a72d1b8ed",
            "bacfad69dcc44fda89167c1c2cb1eb54",
            "c9336981222b4854b42dea2db30df895",
            "1b5edef3e538401aaf2c77eea90b3f2d",
            "1c97f643c89e4a46a147339e3bc597af"
          ]
        },
        "outputId": "bcfbc896-286a-40cd-c697-da2ac56209fc"
      },
      "source": [
        "#create the data class\n",
        "class CIFAR10(Dataset):\n",
        "\n",
        "    def __init__(self, data_path= '../data', train=True):\n",
        "        super(CIFAR10, self).__init__()\n",
        "        self.data_path = data_path\n",
        "        self.train = train\n",
        "        #now load the data\n",
        "        self.transform = transforms.Compose(\n",
        "                              [transforms.ToTensor(),\n",
        "                              transforms.Normalize((0.5, 0.5, 0.5), (0.5, 0.5, 0.5))])\n",
        "        self.data = datasets.CIFAR10(data_path, train = train, download=True, transform=self.transform) \n",
        "\n",
        "    def __getitem__(self, i):\n",
        "        return self.data[i]\n",
        "\n",
        "    def __len__(self):\n",
        "        return len(self.data)\n",
        "\n",
        "# Download data\n",
        "classes = ('airplanes', 'cars', 'birds', 'cats', 'deer', 'dogs', 'frogs', 'horses', 'ships', 'trucks')\n",
        "train_data = CIFAR10(train=True)\n",
        "valid_data = CIFAR10(train=False)\n",
        "train_loader = DataLoader(train_data, batch_size=32,shuffle=True)\n",
        "valid_loader = DataLoader(valid_data, batch_size=1, shuffle=True)\n",
        "print(len(train_data))\n",
        "print(len(valid_data))"
      ],
      "execution_count": 4,
      "outputs": [
        {
          "output_type": "stream",
          "text": [
            "Downloading https://www.cs.toronto.edu/~kriz/cifar-10-python.tar.gz to ../data/cifar-10-python.tar.gz\n"
          ],
          "name": "stdout"
        },
        {
          "output_type": "display_data",
          "data": {
            "application/vnd.jupyter.widget-view+json": {
              "model_id": "493ec0818a7c42c59a39627ad36d122a",
              "version_minor": 0,
              "version_major": 2
            },
            "text/plain": [
              "HBox(children=(FloatProgress(value=0.0, max=170498071.0), HTML(value='')))"
            ]
          },
          "metadata": {
            "tags": []
          }
        },
        {
          "output_type": "stream",
          "text": [
            "\n",
            "Extracting ../data/cifar-10-python.tar.gz to ../data\n",
            "Files already downloaded and verified\n",
            "50000\n",
            "10000\n"
          ],
          "name": "stdout"
        }
      ]
    },
    {
      "cell_type": "markdown",
      "metadata": {
        "id": "_n_LX7YU_eF7"
      },
      "source": [
        "# Problem 2\n",
        "\n",
        "Create a convolution model class convoles an image of size $3\\times 32 \\times 32$ into a 1D tensor that represents the $10$ classes.\n",
        "The model should have at least three convolution layers, each followed by an activation function, and include at least two linear layers and one maxpool layer.\n",
        "Select channels and kernel sizes so that you get at least $50,000$ parameters.\n",
        "\n",
        "Calculate and print the number of learnable parameters in your model.\n",
        "\n",
        "Initialize your model and move it to the device.\n",
        "Run the model on a single image to make sure there are no errors.\n"
      ]
    },
    {
      "cell_type": "code",
      "metadata": {
        "id": "p7pX2Cc8Hw0V"
      },
      "source": [
        "class ConvolutionModel(nn.Module):\n",
        "    def __init__(self):\n",
        "        super(ConvolutionModel,self).__init__()\n",
        "        #intialize layers\n",
        "        self.conv1 = nn.Conv2d(in_channels=3, out_channels=64, kernel_size=5, padding=1)\n",
        "        #nx30x30\n",
        "        self.relu = nn.ReLU()       \n",
        "        self.conv2 = nn.Conv2d(in_channels=64, out_channels=128, kernel_size=3)\n",
        "        #nx28x28\n",
        "        self.maxpool = nn.MaxPool2d(kernel_size=2)\n",
        "        #nx14x14\n",
        "        self.conv3 = nn.Conv2d(in_channels=128, out_channels=128, kernel_size=3)\n",
        "        #nx12x12\n",
        "        self.flatten = nn.Flatten()\n",
        "        #1x(n*12*12)\n",
        "        self.linear_1 = nn.Linear(in_features=128*12*12, out_features=1000)\n",
        "        #1x1000\n",
        "        self.linear_2 = nn.Linear(in_features=1000, out_features=10)\n",
        "        #1x10\n",
        "    def forward(self,x):\n",
        "        output = self.relu(self.conv2(self.relu(self.conv1(x))))\n",
        "        output = self.relu(self.conv3(self.maxpool(output)))\n",
        "        return self.linear_2(self.linear_1(self.flatten(output)))"
      ],
      "execution_count": 5,
      "outputs": []
    },
    {
      "cell_type": "code",
      "metadata": {
        "id": "34G9veBSEOd-"
      },
      "source": [
        "def count_parameters(model): \n",
        "  return sum(p.numel() for p in model.parameters())\n",
        "def accuracy(y_hat, y_truth):\n",
        "    \"\"\"Gets average accuracy of a vector of predictions\"\"\"\n",
        "    \n",
        "    preds = torch.argmax(y_hat, dim=1)\n",
        "    acc = torch.mean((preds == y_truth).float())\n",
        "    return acc"
      ],
      "execution_count": 6,
      "outputs": []
    },
    {
      "cell_type": "markdown",
      "metadata": {
        "id": "KtH3WXXf_ifL"
      },
      "source": [
        "# Problem 3\n",
        "\n",
        "Train the model by looping through the training data. Inside the loop, you should\n",
        "1. Zero out the gradients.\n",
        "2. Run the model on the inputs.\n",
        "3. Calculate the loss on the model output and the actual label.\n",
        "4. Backpropogate the error.\n",
        "5. Optimize.\n",
        "\n",
        "Run the loop for 10 epochs. At the end of each epoch, calculate the mean loss of the\n",
        "training data for that epoch. Then calculate the accuracy of the model on the test data. Since\n",
        "the model is no longer training, it needs to be set to evaluation mode using model.eval().\n",
        "To resume training at the beginning of the next epoch, set the model to training mode using\n",
        "model.train().\n",
        "\n",
        "You should have around $50\\%$ accuracy at the end of $10$ epochs.\n",
        "\n",
        "Plot the epochs v. mean training loss each epoch and the epochs v. accuracy.\n"
      ]
    },
    {
      "cell_type": "code",
      "metadata": {
        "id": "pDzx4o866HuF",
        "colab": {
          "base_uri": "https://localhost:8080/"
        },
        "outputId": "5a9f790d-18ec-4108-9365-0257f1003dc9"
      },
      "source": [
        "#intialize constants optimizer and objective function\n",
        "device = torch.device('cuda:0')\n",
        "num_epochs = 10\n",
        "lr=1e-4\n",
        "model = ConvolutionModel()\n",
        "model = model.to(device)\n",
        "val_mean_acs = list()\n",
        "val_mean_loss = list()\n",
        "train_mean_acs = list()\n",
        "train_mean_loss = list()\n",
        "objective = nn.CrossEntropyLoss()\n",
        "optimizer = optim.Adam(model.parameters(), lr=lr)\n",
        "# Progress bar\n",
        "pbar = tqdm(total=len(train_loader) * num_epochs)\n",
        "for epoch in range(num_epochs):\n",
        "    train_losses = list()\n",
        "    train_acs = list()\n",
        "    model.train()\n",
        "    for x, y_truth in train_loader:\n",
        "        #get the data\n",
        "        x, y_truth = x.to(device), y_truth.to(device)\n",
        "        #zero the gradient\n",
        "        optimizer.zero_grad()\n",
        "        #get the prediction\n",
        "        y_hat = model(x)\n",
        "        #get the loss\n",
        "        train_loss = objective(y_hat, y_truth)\n",
        "        train_acc = accuracy(y_hat, y_truth)\n",
        "        #backward propagate loss\n",
        "        train_loss.backward()\n",
        "        #take step with the optimizer\n",
        "        optimizer.step()\n",
        "        #append losses and accuracies to list\n",
        "        train_losses.append(train_loss.item())\n",
        "        train_acs.append(train_acc.item())\n",
        "        #update the status bar\n",
        "        pbar.set_description('train loss:{:.4f}, train accuracy:{:.4f}.'.format(train_loss.item(), train_acc))\n",
        "        pbar.update(1)    \n",
        "    #average the losses\n",
        "    train_mean_loss.append(np.mean(train_losses))\n",
        "    #average the accuracies\n",
        "    train_mean_acs.append(np.mean(train_acs))\n",
        "    model.eval()\n",
        "    #do the validation step\n",
        "    val_losses = list()\n",
        "    val_accs = list()\n",
        "    for x, y_truth in valid_loader:\n",
        "        x, y_truth = x.to(device), y_truth.to(device)\n",
        "        y_hat = model(x)\n",
        "        val_losses.append(objective(y_hat, y_truth).item())\n",
        "        val_accs.append(accuracy(y_hat, y_truth).item())\n",
        "    #now get the means\n",
        "    val_mean_acs.append(np.mean(val_accs))\n",
        "    val_mean_loss.append(np.mean(val_losses))\n",
        "pbar.close()"
      ],
      "execution_count": 7,
      "outputs": [
        {
          "output_type": "stream",
          "text": [
            "train loss:0.2296, train accuracy:0.8750.: 100%|██████████| 15630/15630 [07:58<00:00, 32.67it/s]\n"
          ],
          "name": "stderr"
        }
      ]
    },
    {
      "cell_type": "code",
      "metadata": {
        "colab": {
          "base_uri": "https://localhost:8080/",
          "height": 422
        },
        "id": "vSYJ5onLEjeE",
        "outputId": "d7770e40-05b3-4bff-ead6-4ab11c446fcb"
      },
      "source": [
        "#plot the results\n",
        "fig,ax = plt.subplots(1,2,figsize=(15,7))\n",
        "ax[0].plot(train_mean_loss,label='test loss')\n",
        "ax[0].plot(val_mean_loss,label='validation loss')\n",
        "ax[0].legend()\n",
        "ax[0].set_title(\"Mean Loss per Epoch\")\n",
        "ax[1].plot(train_mean_acs,label='test accuracy')\n",
        "ax[1].plot(val_mean_acs,label='validation accuracy')\n",
        "ax[1].legend()\n",
        "ax[1].set_title(\"Mean Accuracy per Epoch\")\n",
        "plt.show()"
      ],
      "execution_count": 8,
      "outputs": [
        {
          "output_type": "display_data",
          "data": {
            "image/png": "[encoded data removed]",
            "text/plain": [
              "<Figure size 1080x504 with 2 Axes>"
            ]
          },
          "metadata": {
            "tags": [],
            "needs_background": "light"
          }
        }
      ]
    },
    {
      "cell_type": "markdown",
      "metadata": {
        "id": "bEvqbSSe_xe8"
      },
      "source": [
        "# Problem 4\n",
        "\n",
        "Write a function that loops through the test data, modifying the images as described.\n",
        "\n",
        "Run your function for each epsilon in $[0,.05,.1,.15,.2,.25,.3]$, and plot epsilon v. accuracy.\n",
        "\n",
        "Display the perturbed version of the first image in the test data for each epsilon."
      ]
    },
    {
      "cell_type": "code",
      "metadata": {
        "id": "F4oECv5Xad3k"
      },
      "source": [
        "def check_accuracy(y_truth, y_hat):\n",
        "    pred = torch.argmax(y_hat, dim=1)\n",
        "    acc = pred == y_truth\n",
        "    return acc\n",
        "# FGSM attack code\n",
        "def fgsm_attack(image, epsilon, data_grad):\n",
        "    # Collect the element-wise sign of the data gradient\n",
        "    sign_data_grad = data_grad.sign()\n",
        "    # Create the perturbed image by adjusting each pixel of the input image\n",
        "    perturbed_image = image + epsilon*sign_data_grad\n",
        "    # Return the perturbed image adding clipping to maintain [-1,1] range\n",
        "    return torch.clamp(perturbed_image, -1, 1)"
      ],
      "execution_count": 11,
      "outputs": []
    },
    {
      "cell_type": "code",
      "metadata": {
        "id": "pMsLmlpSnGqq"
      },
      "source": [
        "def adversarial_attack(model, data_loader, epsilon):\n",
        "    accuracies = list()\n",
        "    counter = 0\n",
        "    for x, y_truth in data_loader:\n",
        "        #get the data\n",
        "        model.train()\n",
        "        x, y_truth = x.to(device), y_truth.to(device)\n",
        "        x.requires_grad = True\n",
        "        #zero the gradient\n",
        "        optimizer.zero_grad()\n",
        "        #get the prediction\n",
        "        y_hat = model(x)\n",
        "        train_loss = objective(y_hat, y_truth)\n",
        "        if (check_accuracy(y_truth,y_hat).item() is not True):\n",
        "            accuracies.append(0)\n",
        "            continue\n",
        "        #backward propagate loss\n",
        "        train_loss.backward()\n",
        "        #take step with the optimizer\n",
        "        optimizer.step()\n",
        "        #get the the gradient\n",
        "        data_grad = x.grad.data\n",
        "        perturbed_data = fgsm_attack(x.data, epsilon, data_grad)\n",
        "        model.eval()\n",
        "        y = model(perturbed_data)\n",
        "        if (counter == 0):\n",
        "          img = perturbed_data.squeeze().detach().cpu().numpy()\n",
        "          img = img/2 + 0.5\n",
        "          plt.imshow(np.transpose(img, (1,2,0)))\n",
        "          plt.show()\n",
        "        #compute the accuracy of the prediction\n",
        "        if (check_accuracy(y_truth,y).item() is True):\n",
        "            accuracies.append(1)\n",
        "        else:\n",
        "            accuracies.append(0)\n",
        "        counter += 1\n",
        "\n",
        "    return np.sum(accuracies)/len_valid"
      ],
      "execution_count": 20,
      "outputs": []
    },
    {
      "cell_type": "code",
      "metadata": {
        "colab": {
          "base_uri": "https://localhost:8080/",
          "height": 1000
        },
        "id": "EcUO_74CEtUC",
        "outputId": "782c4923-4960-4d90-90fd-acd25967ed57"
      },
      "source": [
        "valid_data = CIFAR10(train=False)\n",
        "eps_list = [0,0.05,0.1,0.15,0.2,0.25,0.3]\n",
        "acc_list = []\n",
        "#loop through the epsilon values\n",
        "for epsilon in eps_list:\n",
        "    print(\"Epsilon: {}\".format(epsilon))\n",
        "    model_attack = copy.deepcopy(model)\n",
        "    data_loader = DataLoader(valid_data, batch_size=1, shuffle=True)\n",
        "    len_valid = len(data_loader)\n",
        "    acc_list.append(adversarial_attack(model_attack, data_loader, epsilon))\n",
        "plt.plot(eps_list,acc_list)\n",
        "plt.title(\"Epsilon vs Accuracy\")\n",
        "plt.xlabel(\"Epsilon\")\n",
        "plt.ylabel(\"Accuracy\")\n",
        "plt.show()"
      ],
      "execution_count": 21,
      "outputs": [
        {
          "output_type": "stream",
          "text": [
            "Files already downloaded and verified\n",
            "Epsilon: 0\n"
          ],
          "name": "stdout"
        },
        {
          "output_type": "display_data",
          "data": {
            "image/png": "[encoded data removed]",
            "text/plain": [
              "<Figure size 432x288 with 1 Axes>"
            ]
          },
          "metadata": {
            "tags": [],
            "needs_background": "light"
          }
        },
        {
          "output_type": "stream",
          "text": [
            "Epsilon: 0.05\n"
          ],
          "name": "stdout"
        },
        {
          "output_type": "display_data",
          "data": {
            "image/png": "[encoded data removed]",
            "text/plain": [
              "<Figure size 432x288 with 1 Axes>"
            ]
          },
          "metadata": {
            "tags": [],
            "needs_background": "light"
          }
        },
        {
          "output_type": "stream",
          "text": [
            "Epsilon: 0.1\n"
          ],
          "name": "stdout"
        },
        {
          "output_type": "display_data",
          "data": {
            "image/png": "[encoded data removed]",
            "text/plain": [
              "<Figure size 432x288 with 1 Axes>"
            ]
          },
          "metadata": {
            "tags": [],
            "needs_background": "light"
          }
        },
        {
          "output_type": "stream",
          "text": [
            "Epsilon: 0.15\n"
          ],
          "name": "stdout"
        },
        {
          "output_type": "display_data",
          "data": {
            "image/png": "[encoded data removed]",
            "text/plain": [
              "<Figure size 432x288 with 1 Axes>"
            ]
          },
          "metadata": {
            "tags": [],
            "needs_background": "light"
          }
        },
        {
          "output_type": "stream",
          "text": [
            "Epsilon: 0.2\n"
          ],
          "name": "stdout"
        },
        {
          "output_type": "display_data",
          "data": {
            "image/png": "[encoded data removed]",
            "text/plain": [
              "<Figure size 432x288 with 1 Axes>"
            ]
          },
          "metadata": {
            "tags": [],
            "needs_background": "light"
          }
        },
        {
          "output_type": "stream",
          "text": [
            "Epsilon: 0.25\n"
          ],
          "name": "stdout"
        },
        {
          "output_type": "display_data",
          "data": {
            "image/png": "[encoded data removed]",
            "text/plain": [
              "<Figure size 432x288 with 1 Axes>"
            ]
          },
          "metadata": {
            "tags": [],
            "needs_background": "light"
          }
        },
        {
          "output_type": "stream",
          "text": [
            "Epsilon: 0.3\n"
          ],
          "name": "stdout"
        },
        {
          "output_type": "display_data",
          "data": {
            "image/png": "[encoded data removed]",
            "text/plain": [
              "<Figure size 432x288 with 1 Axes>"
            ]
          },
          "metadata": {
            "tags": [],
            "needs_background": "light"
          }
        },
        {
          "output_type": "display_data",
          "data": {
            "image/png": "[encoded data removed]",
            "text/plain": [
              "<Figure size 432x288 with 1 Axes>"
            ]
          },
          "metadata": {
            "tags": [],
            "needs_background": "light"
          }
        }
      ]
    }
  ]
}
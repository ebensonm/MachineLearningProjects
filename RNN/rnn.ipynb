{
  "nbformat": 4,
  "nbformat_minor": 0,
  "metadata": {
    "colab": {
      "name": "rnn.ipynb",
      "provenance": [],
      "collapsed_sections": []
    },
    "kernelspec": {
      "display_name": "Python 3",
      "language": "python",
      "name": "python3"
    },
    "language_info": {
      "codemirror_mode": {
        "name": "ipython",
        "version": 3
      },
      "file_extension": ".py",
      "mimetype": "text/x-python",
      "name": "python",
      "nbconvert_exporter": "python",
      "pygments_lexer": "ipython3",
      "version": "3.8.5"
    },
    "accelerator": "GPU"
  },
  "cells": [
    {
      "cell_type": "code",
      "metadata": {
        "id": "_HaCF0y2YpwU"
      },
      "source": [
        "from music21 import converter, instrument, note, chord, stream, midi\n",
        "from google.colab import files\n",
        "import random\n",
        "import glob\n",
        "import os\n",
        "import gzip\n",
        "import tarfile    \n",
        "from torchvision import datasets                  \n",
        "import numpy as np\n",
        "import torch\n",
        "import torch.nn as nn\n",
        "import torch.optim\n",
        "from torch.utils.data import DataLoader, random_split, Dataset\n",
        "import matplotlib.pyplot as plt\n",
        "from tqdm import tqdm\n",
        "\n",
        "assert torch.cuda.is_available()"
      ],
      "execution_count": 1,
      "outputs": []
    },
    {
      "cell_type": "code",
      "metadata": {
        "colab": {
          "base_uri": "https://localhost:8080/"
        },
        "id": "MQLLgkzrYviL",
        "outputId": "71fc62c6-c054-4f39-d2e5-ba86f106cfe7"
      },
      "source": [
        "# Import Drive for easier saving\n",
        "from google.colab import drive\n",
        "drive.mount('/content/drive', force_remount=True)"
      ],
      "execution_count": 2,
      "outputs": [
        {
          "output_type": "stream",
          "text": [
            "Mounted at /content/drive\n"
          ],
          "name": "stdout"
        }
      ]
    },
    {
      "cell_type": "code",
      "metadata": {
        "id": "rCbORzBiYy6f"
      },
      "source": [
        "def download_data(filepath):\n",
        "    if not os.path.exists(os.path.join(filepath, 'mozart_sonatas.tar.gz')):\n",
        "      datasets.utils.download_url('https://github.com/Foundations-of-Applied-Mathematics/Data/raw/master/RNN/mozart_sonatas.tar.gz', filepath, 'mozart_sonatas.tar.gz', None)\n",
        "\n",
        "    print('Extracting {}'.format('mozart_sonatas.tar.gz'))\n",
        "    gzip_path = os.path.join(filepath, 'mozart_sonatas.tar.gz')\n",
        "    with open(gzip_path.replace('.gz', ''), 'wb') as out_f, gzip.GzipFile(gzip_path) as zip_f:\n",
        "      out_f.write(zip_f.read())\n",
        "\n",
        "    print('Untarring {}'.format('mozart_sonatas.tar'))\n",
        "    tar_path = os.path.join(filepath,'mozart_sonatas.tar')\n",
        "    z = tarfile.TarFile(tar_path)\n",
        "    z.extractall(tar_path.replace('.tar', ''))\n"
      ],
      "execution_count": 3,
      "outputs": []
    },
    {
      "cell_type": "code",
      "metadata": {
        "colab": {
          "base_uri": "https://localhost:8080/"
        },
        "id": "15solqxL2BKv",
        "outputId": "530f1df9-070a-490f-c62b-ff7e5e1e4f07"
      },
      "source": [
        "download_data('/content/drive/MyDrive/ColabData')"
      ],
      "execution_count": 4,
      "outputs": [
        {
          "output_type": "stream",
          "text": [
            "Extracting mozart_sonatas.tar.gz\n",
            "Untarring mozart_sonatas.tar\n"
          ],
          "name": "stdout"
        }
      ]
    },
    {
      "cell_type": "markdown",
      "metadata": {
        "id": "m7WTL6LYY0uP"
      },
      "source": [
        "**Problem 1**:\n",
        "\n",
        "Download the data.\n",
        "Write a function that accepts the path to the .mid files, parses the files, and returns a list of the $119348$ pitches as strings. \n",
        "For the Chords, join the pitches of the notes in the chords with a . as in D3.D2.\n",
        "\n",
        "Print the length of your list.\n"
      ]
    },
    {
      "cell_type": "code",
      "metadata": {
        "id": "hEpK4GIyZCWg"
      },
      "source": [
        "def parse_data(dir_path):\n",
        "    pitches = list()\n",
        "    #loop through the directory\n",
        "    for filename in os.listdir(dir_path):\n",
        "        file_path = os.path.join(dir_path, filename)\n",
        "        #parse the music file\n",
        "        midi = converter.parse(file_path)\n",
        "        notes_to_parse = instrument.partitionByInstrument(midi).parts[0].recurse()\n",
        "        #add the pitches to the list\n",
        "        for element in notes_to_parse:\n",
        "            #get the notes\n",
        "            if isinstance(element, note.Note):\n",
        "                pitches.append(str(element.pitch))\n",
        "            #get the chords\n",
        "            elif isinstance(element, chord.Chord):\n",
        "                chords = element.pitches\n",
        "                chord_pitch = list()\n",
        "                for pitch in chords:\n",
        "                    chord_pitch.append(str(pitch))\n",
        "                pitches.append('.'.join(chord_pitch))\n",
        "    #return the list of pitches\n",
        "    return pitches"
      ],
      "execution_count": 5,
      "outputs": []
    },
    {
      "cell_type": "code",
      "metadata": {
        "colab": {
          "base_uri": "https://localhost:8080/"
        },
        "id": "xXh5i9Ji5YHb",
        "outputId": "68a85eaf-ebc1-4e33-a2dd-9e0b1415d180"
      },
      "source": [
        "pitches = parse_data('/content/drive/MyDrive/ColabData/mozart_sonatas/mozart_sonatas')\n",
        "print(len(pitches))"
      ],
      "execution_count": 6,
      "outputs": [
        {
          "output_type": "stream",
          "text": [
            "119348\n"
          ],
          "name": "stdout"
        }
      ]
    },
    {
      "cell_type": "markdown",
      "metadata": {
        "id": "3votXpqiZCtY"
      },
      "source": [
        "**Problem 2.** \n",
        "\n",
        "Using the list returned in Problem 1, create the training and testing DataLoaders.\n",
        "Make sure to do all of the following steps:\n",
        "\n",
        "\n",
        "1) Convert the pitches to integers.\n",
        "2) Split the data into Long tensors of length 100.\n",
        "3) Create the labels.\n",
        "4) Randomly split the data into training and test sets using an 80/2-0split.\n",
        "5) Create the DataLoaders for both sets of data, using batch_size=128 for the training data and batch_size=1 for the test data.\n",
        " \n",
        "\n",
        "Print the length of each DataLoader.\n"
      ]
    },
    {
      "cell_type": "code",
      "metadata": {
        "id": "UghZuJfxZuzO"
      },
      "source": [
        "def pitch_map(pitch_list):\n",
        "    pitch_set = set(pitch_list)\n",
        "    map_pitches = dict()\n",
        "    counter = 0\n",
        "    for pitch in pitch_set:\n",
        "        map_pitches[pitch] = counter\n",
        "        counter += 1\n",
        "    return map_pitches, pitch_set\n",
        "\n",
        "def transform(pitch_list, map_pitches, seq_length):\n",
        "    list_data = list()\n",
        "    #map the pitches to integers\n",
        "    mapped_pitches = list(map(map_pitches.get, pitch_list))\n",
        "    #create the data\n",
        "    num_pitches = len(mapped_pitches)\n",
        "    for i in range(num_pitches-(seq_length+1)):\n",
        "        sequence = torch.LongTensor(mapped_pitches[i:i+seq_length])\n",
        "        label = mapped_pitches[i+seq_length]\n",
        "        list_data.append([sequence, label])\n",
        "    return list_data\n",
        "\n",
        "def get_train_valid_data(pitch_list, map_pitches, seq_length=100):\n",
        "    #transform the data\n",
        "    data = transform(pitch_list, map_pitches, seq_length)\n",
        "    random.shuffle(data)\n",
        "    num_split = int(len(data)*0.8)\n",
        "    return data[:num_split], data[num_split:]\n",
        "\n",
        "def accuracy(y_hat, y_truth):\n",
        "    \"\"\"Gets average accuracy of a vector of predictions\"\"\"\n",
        "    softmax = nn.LogSoftmax(dim=1)\n",
        "    preds = torch.argmax(softmax(y_hat), dim=1)\n",
        "    acc = torch.mean((preds == y_truth).float())\n",
        "    return acc\n",
        "\n",
        "def load_model(filename, lr=0.001, embedding_dim=500, num_layers=10):\n",
        "  \"\"\" Load a saved model to continue training or evaluate \"\"\"\n",
        "  device = torch.device(\"cuda:0\")\n",
        "  n_vocab = len(pitch_set)\n",
        "  model = RNN(n_vocab, embedding_dim=embedding_dim, num_layers=num_layers)\n",
        "  model = model.to(device)\n",
        "  criterion = nn.CrossEntropyLoss()\n",
        "  optimizer = torch.optim.RMSprop(model.parameters(),lr=lr)\n",
        "  checkpoint = torch.load(filename,map_location=torch.device(device))\n",
        "  model.load_state_dict(checkpoint['model_state_dict'])\n",
        "  optimizer.load_state_dict(checkpoint['optimizer_state_dict'])\n",
        "  last_epoch = checkpoint['epoch']\n",
        "  loss = checkpoint['loss']\n",
        "  model.eval() # For evaluation only\n",
        "  \n",
        "  return model, criterion, optimizer, last_epoch"
      ],
      "execution_count": 15,
      "outputs": []
    },
    {
      "cell_type": "code",
      "metadata": {
        "colab": {
          "base_uri": "https://localhost:8080/"
        },
        "id": "Uv3c3erH9G8p",
        "outputId": "bee1d675-15c4-4182-ec56-6f509f9814c8"
      },
      "source": [
        "#get the map of pitches and the set of pitches for vocab size\n",
        "map_pitches, pitch_set = pitch_map(pitches)\n",
        "reverse_pitch = {value : key for (key, value) in map_pitches.items()}\n",
        "#create the train data and validation data loaders\n",
        "train_data, valid_data = get_train_valid_data(pitches, map_pitches)\n",
        "#shorten the validation set, it does not need to have 20000 points\n",
        "valid_data = valid_data[:1000]\n",
        "train_loader = DataLoader(train_data, batch_size=128,shuffle=True, drop_last=True)\n",
        "valid_loader = DataLoader(valid_data, batch_size=1, shuffle=True)\n",
        "print(len(pitch_set))\n",
        "print(len(train_loader))\n",
        "print(len(valid_loader))"
      ],
      "execution_count": 8,
      "outputs": [
        {
          "output_type": "stream",
          "text": [
            "741\n",
            "745\n",
            "1000\n"
          ],
          "name": "stdout"
        }
      ]
    },
    {
      "cell_type": "markdown",
      "metadata": {
        "id": "mOtS86Rbi0P_"
      },
      "source": [
        "**Problem 3**\n",
        "\n",
        "Create the network class.\n",
        "Include at least $3$ LSTM layers, each followed by Dropout layers with probability $.3.$\n",
        "Also have at least $2$ Linear layers.\n",
        "The last LSTM layer and each of the Linear layers should be followed by a BatchNorm1d layer, for at least $3$ total batchnorm layers.\n",
        "The final layer should be a Softmax activation.\n",
        "\n",
        "Initialize the model, loss as CrossEntropyLoss, and optimizer as RMSprop.\n",
        "\n",
        "Train the model for at least 30 epochs.\n",
        "\n",
        "After taking a backwards step during training, scale the gradients using \n",
        "nn.utils.clip_grad_norm_(model.parameters(), 5)\n",
        "This will ensure that the gradients are reasonably sized so that the model can learn.\n",
        "\n",
        "At the end of each epoch, calculate the accuracy and mean loss on the test data.\n",
        "Remember to change the model to eval() mode when running the test data and train() when running on the training data.\n",
        "\n",
        "After the accuracy is above 95\\%, plot the training and test losses versus epochs on the same plot.\n",
        "Plot the accuracy versus epochs.\n"
      ]
    },
    {
      "cell_type": "code",
      "metadata": {
        "id": "jMhH1W7ciwzB"
      },
      "source": [
        "class RNN(nn.Module):\n",
        "    '''\n",
        "    Recurrent Neural Network Class\n",
        "    '''\n",
        "    def __init__(self,n_notes,embedding_dim,num_layers=5):\n",
        "      super(RNN, self).__init__()\n",
        "      # initialize layers\n",
        "      self.hidden_size = 1024\n",
        "      self.num_layers = num_layers\n",
        "      self.dropout = 0.3\n",
        "      self.vocab_size = n_notes\n",
        "      self.embedding = nn.Embedding(self.vocab_size,embedding_dim)\n",
        "      self.relu = nn.ReLU()  \n",
        "      self.lstm = nn.LSTM(embedding_dim, self.hidden_size, self.num_layers,\n",
        "                          batch_first=True, dropout=0.3)\n",
        "      self.batch1 = nn.BatchNorm1d(self.hidden_size)\n",
        "      self.batch2 = nn.BatchNorm1d(self.hidden_size//2)\n",
        "      self.batch3 = nn.BatchNorm1d(self.vocab_size)\n",
        "      self.dropout = nn.Dropout(0.3)\n",
        "      self.linear_1 = nn.Linear(self.hidden_size, self.hidden_size//2)\n",
        "      self.linear_2 = nn.Linear(self.hidden_size//2, self.vocab_size)\n",
        "      self.softmax = nn.LogSoftmax(dim=1)\n",
        "\n",
        "    def forward(self, x, hidden):\n",
        "       embedding = self.embedding(x)\n",
        "       lstm_out, hidden = self.lstm(embedding, hidden)\n",
        "       out = self.dropout(self.relu(self.batch1(lstm_out[:,-1])))\n",
        "       out = self.relu(self.batch2(self.linear_1(out)))\n",
        "       out = self.batch3(self.linear_2(out))\n",
        "       return out, hidden\n",
        "\n",
        "    def initHidden(self,batch_size):\n",
        "      # initialize the hidden layers\n",
        "      device = torch.device('cuda:0')\n",
        "      weight = next(self.parameters()).data\n",
        "      h0 = weight.new(self.num_layers, batch_size, self.hidden_size).zero_().to(device)\n",
        "      h1 = weight.new(self.num_layers, batch_size, self.hidden_size).zero_().to(device)\n",
        "      return (h0, h1)"
      ],
      "execution_count": 9,
      "outputs": []
    },
    {
      "cell_type": "code",
      "metadata": {
        "id": "F2r4TaGhQZHG"
      },
      "source": [
        "def train(start_model=None, num_epochs=40, lr=0.005, embed_size=500, num_layers=10):\n",
        "    #intialize constants optimizer and objective function\n",
        "    device = torch.device('cuda:0')\n",
        "    num_epochs = num_epochs\n",
        "    save_num = 1\n",
        "    lr=lr\n",
        "    if (start_model is None):\n",
        "        model = RNN(len(pitch_set), embed_size, num_layers)\n",
        "        model = model.to(device)\n",
        "        criterion = nn.CrossEntropyLoss()\n",
        "        optimizer = torch.optim.RMSprop(model.parameters(), lr=lr)\n",
        "        last_epoch=-1\n",
        "    else:\n",
        "        print(\"Loading Model\")\n",
        "        model, criterion, optimizer, last_epoch = load_model(start_model,\n",
        "                                                             lr=lr,\n",
        "                                                             embedding_dim=embed_size,\n",
        "                                                             num_layers=num_layers)\n",
        "\n",
        "    val_mean_acs = list()\n",
        "    val_mean_loss = list()\n",
        "    train_mean_acs = list()\n",
        "    train_mean_loss = list()\n",
        "    # Progress bar\n",
        "    pbar = tqdm(total=len(train_loader) * num_epochs)\n",
        "    for epoch in range(last_epoch+1, num_epochs):\n",
        "        train_losses = list()\n",
        "        train_acs = list()\n",
        "        model.train()\n",
        "        #get the data\n",
        "        (h0,h1) = model.initHidden(128)\n",
        "        for x, y_truth in train_loader:\n",
        "            x, y_truth = x.to(device), y_truth.to(device)\n",
        "            #zero the gradient\n",
        "            optimizer.zero_grad()\n",
        "            #get the prediction\n",
        "            y_hat, (h0, h1) = model(x, (h0,h1))\n",
        "            h0 = h0.detach()\n",
        "            h1 = h1.detach()\n",
        "            #get the loss\n",
        "            train_loss = criterion(y_hat, y_truth)\n",
        "            train_acc = accuracy(y_hat, y_truth)\n",
        "            #backward propagate loss\n",
        "            train_loss.backward()\n",
        "            nn.utils.clip_grad_norm_(model.parameters(), 5)\n",
        "            #take step with the optimizer\n",
        "            optimizer.step()\n",
        "            #append losses and accuracies to list\n",
        "            train_losses.append(train_loss.item())\n",
        "            train_acs.append(train_acc.item())\n",
        "            #update the status bar\n",
        "            pbar.set_description('train loss:{:.4f}, train accuracy:{:.4f}.'.format(train_loss.item(), train_acc))\n",
        "            pbar.update(1)    \n",
        "        #average the losses\n",
        "        torch.save({'epoch': epoch,\n",
        "                   'model_state_dict': model.state_dict(),\n",
        "                   'optimizer_state_dict': optimizer.state_dict(),\n",
        "                   'loss': np.mean(train_losses),},'/content/drive/MyDrive/ColabData/model')\n",
        "        train_mean_loss.append(np.mean(train_losses))\n",
        "        #average the accuracies\n",
        "        train_mean_acs.append(np.mean(train_acs))\n",
        "        model.eval()\n",
        "        #do the validation step\n",
        "        val_losses = list()\n",
        "        val_accs = list()\n",
        "        (h0,h1) = model.initHidden(1)\n",
        "        for x, y_truth in valid_loader:\n",
        "            x, y_truth = x.to(device), y_truth.to(device)\n",
        "            y_hat, (h0,h1) = model(x, (h0,h1))\n",
        "            val_losses.append(criterion(y_hat, y_truth).item())\n",
        "            val_accs.append(accuracy(y_hat, y_truth).item())\n",
        "        #now get the means\n",
        "        val_mean_acs.append(np.mean(val_accs))\n",
        "        val_mean_loss.append(np.mean(val_losses))\n",
        "    pbar.close()\n",
        "    losses = (train_mean_loss, train_mean_acs, val_mean_loss, val_mean_acs)\n",
        "    return model, losses"
      ],
      "execution_count": 10,
      "outputs": []
    },
    {
      "cell_type": "code",
      "metadata": {
        "colab": {
          "base_uri": "https://localhost:8080/"
        },
        "id": "1CPv4HtUWJ-T",
        "outputId": "7665ee58-aad3-4cae-bacb-2098b5b21e1c"
      },
      "source": [
        "model, losses = train(num_epochs=5, start_model=None)"
      ],
      "execution_count": 11,
      "outputs": [
        {
          "output_type": "stream",
          "text": [
            "train loss:4.0412, train accuracy:0.0312.: 100%|██████████| 3725/3725 [2:07:04<00:00,  2.05s/it]\n"
          ],
          "name": "stderr"
        }
      ]
    },
    {
      "cell_type": "code",
      "metadata": {
        "id": "OBkadQMcbW7V",
        "colab": {
          "base_uri": "https://localhost:8080/",
          "height": 443
        },
        "outputId": "488cb769-b978-4367-c6a7-798abb5e8b98"
      },
      "source": [
        "train_mean_loss, train_mean_acs, val_mean_loss, val_mean_acs = losses\n",
        "#plot the results\n",
        "fig,ax = plt.subplots(1,2,figsize=(15,7))\n",
        "ax[0].plot(train_mean_loss,label='test loss')\n",
        "ax[0].plot(val_mean_loss,label='validation loss')\n",
        "ax[0].legend()\n",
        "ax[0].set_title(\"Mean Loss per Epoch\")\n",
        "ax[1].plot(train_mean_acs,label='test accuracy')\n",
        "ax[1].plot(val_mean_acs,label='validation accuracy')\n",
        "ax[1].legend()\n",
        "ax[1].set_title(\"Mean Accuracy per Epoch\")\n",
        "plt.show()"
      ],
      "execution_count": 12,
      "outputs": [
        {
          "output_type": "display_data",
          "data": {
            "image/png": "[encoded data removed]",
            "text/plain": [
              "<Figure size 1080x504 with 2 Axes>"
            ]
          },
          "metadata": {
            "tags": [],
            "image/png": {
              "width": 871,
              "height": 426
            },
            "needs_background": "light"
          }
        }
      ]
    },
    {
      "cell_type": "markdown",
      "metadata": {
        "id": "sZilPcMCmOED"
      },
      "source": [
        "**Problem 4.** \n",
        "Write a function that randomly chooses a sequence in the test data and predicts\n",
        "the next 500 elements. \n",
        "Return a list of the 600 pitches in the sequence."
      ]
    },
    {
      "cell_type": "code",
      "metadata": {
        "id": "3HciNV-gnLOA"
      },
      "source": [
        "def gen_music(filename, gen_len=500, index=6, lr=0.001):\n",
        "  \"\"\"\n",
        "   Function for generating some music!\n",
        "  \"\"\"\n",
        "  device = torch.device('cuda:0')\n",
        "  model, criterion, optimizer,_ = load_model(filename)\n",
        "  x, y_truth = valid_data[index]\n",
        "  #resize for batch model\n",
        "  x, y_truth = x.to(device), torch.LongTensor([y_truth]).to(device)\n",
        "  x = x.unsqueeze(dim=0)\n",
        "  y_truth = y_truth.unsqueeze(dim=0)\n",
        "  x_total = x.tolist()[0]\n",
        "  softmax = nn.LogSoftmax(dim=1)\n",
        "  #initialize hidden\n",
        "  (h0,h1) = model.initHidden(1)\n",
        "  #forward pass\n",
        "  pbar = tqdm(total=gen_len)\n",
        "  for i in range(gen_len):\n",
        "      #get the prediction\n",
        "      y_hat, (h0, h1) = model(x, (h0,h1))\n",
        "      #get the argmax from the softmax and change x\n",
        "      y_hat = softmax(y_hat)\n",
        "      pred = torch.argmax(y_hat)\n",
        "      predTens = torch.LongTensor([pred]).to(device)\n",
        "      x = torch.cat([x[0,1:], predTens])\n",
        "      x = x.unsqueeze(dim=0)\n",
        "      x_total.append(pred.item())\n",
        "      pbar.set_description('Iteration: {}'.format(i))\n",
        "      pbar.update(1) \n",
        "  pbar.close()\n",
        "  return x_total"
      ],
      "execution_count": 16,
      "outputs": []
    },
    {
      "cell_type": "code",
      "metadata": {
        "id": "7vsZ7WGM1Nf9",
        "colab": {
          "base_uri": "https://localhost:8080/"
        },
        "outputId": "35fcf6a5-7167-4f9c-9675-94cbfd754fb3"
      },
      "source": [
        "x_total = gen_music(filename='/content/drive/MyDrive/ColabData/model')"
      ],
      "execution_count": 17,
      "outputs": [
        {
          "output_type": "stream",
          "text": [
            "Iteration: 499: 100%|██████████| 500/500 [00:39<00:00, 12.64it/s]\n"
          ],
          "name": "stderr"
        }
      ]
    },
    {
      "cell_type": "markdown",
      "metadata": {
        "id": "-syHIeZ4nLhh"
      },
      "source": [
        "**Problem 5.** \n",
        "Convert the sequence from Problem 4 into note and chord objects and save it to\n",
        "'mozart.mid'."
      ]
    },
    {
      "cell_type": "code",
      "metadata": {
        "id": "Ln2CBSfB1Nf-"
      },
      "source": [
        "def get_offset(draw):\n",
        "    #offest numbers\n",
        "    zero_num = 1999/(1999+1167+507)\n",
        "    quarter_num = 1167/(1999+1167+507)\n",
        "    half_num = 507/(1999+1167+507)\n",
        "    if (draw <= half_num):\n",
        "        offset = 0.5\n",
        "    elif (draw <= quarter_num):\n",
        "        offset = 0.25\n",
        "    else:\n",
        "        offset = 0.0\n",
        "    return offset\n",
        "\n",
        "def check_type(element):\n",
        "    return '.' in element\n",
        "\n",
        "def convert_to_file(filename, sequence):\n",
        "    #loop through each element in the sequence\n",
        "    output_notes = list()\n",
        "    offset = 0\n",
        "    for element in sequence:\n",
        "        #check whether it is a chord or a note\n",
        "        element = reverse_pitch[element]\n",
        "        is_chord = check_type(element)\n",
        "        if is_chord is True:\n",
        "            #split according to the added pitches\n",
        "            chord_pitches = element.split('.')\n",
        "            notes = list()\n",
        "            for pitch in chord_pitches:\n",
        "                new_note = note.Note(pitch)\n",
        "                new_note.storedInstrument = instrument.Piano()\n",
        "                notes.append(new_note)\n",
        "            #create the chord from the notes\n",
        "            new_add = chord.Chord(notes)\n",
        "        else:\n",
        "            new_add = note.Note(element)\n",
        "            new_add.storedInstrument = instrument.Piano()\n",
        "        #get the offest using a draw distribution with the given numbers\n",
        "        num_draw = np.random.uniform()\n",
        "        offset += get_offset(num_draw)\n",
        "        new_add.offset = offset\n",
        "        output_notes.append(new_add)\n",
        "\n",
        "    midi_stream = stream.Stream(output_notes)\n",
        "    midi_stream.write('midi', fp=filename)"
      ],
      "execution_count": 18,
      "outputs": []
    },
    {
      "cell_type": "code",
      "metadata": {
        "id": "lFHfbjiFo3pg"
      },
      "source": [
        "convert_to_file('/content/drive/MyDrive/ColabData/mozart.mid', x_total)"
      ],
      "execution_count": 19,
      "outputs": []
    },
    {
      "cell_type": "code",
      "metadata": {
        "id": "5cvy6KBELHaq"
      },
      "source": [
        ""
      ],
      "execution_count": null,
      "outputs": []
    }
  ]
}
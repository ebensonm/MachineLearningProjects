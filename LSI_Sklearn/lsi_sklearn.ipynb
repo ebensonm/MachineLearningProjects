{
 "cells": [
  {
   "cell_type": "markdown",
   "metadata": {},
   "source": [
    "# Finding Patterns in Data\n",
    "## LSI and Scikit-Learn\n",
    "    Eric Manner\n",
    "    Math 403\n",
    "    Nov 16, 2020"
   ]
  },
  {
   "cell_type": "code",
   "execution_count": 1,
   "metadata": {},
   "outputs": [],
   "source": [
    "import os\n",
    "import string\n",
    "import numpy as np\n",
    "from math import log\n",
    "from scipy import sparse\n",
    "from sklearn import datasets\n",
    "from scipy import linalg as la\n",
    "from collections import Counter\n",
    "from matplotlib import pyplot as plt\n",
    "from scipy.sparse import linalg as spla\n",
    "from sklearn.pipeline import Pipeline\n",
    "from sklearn.decomposition import PCA\n",
    "from sklearn.model_selection import GridSearchCV\n",
    "from sklearn.ensemble import RandomForestClassifier\n",
    "from sklearn.neighbors import KNeighborsClassifier\n",
    "from sklearn.preprocessing import StandardScaler\n",
    "from sklearn.model_selection import train_test_split\n",
    "from sklearn.metrics import classification_report\n",
    "from sklearn.metrics import confusion_matrix"
   ]
  },
  {
   "cell_type": "markdown",
   "metadata": {},
   "source": [
    "## Problem 1\n",
    "- Perform PCA on the breast cancer dataset\n",
    "- Graph the first two principal components\n",
    "- Calculate the variance captured by the first two principal components"
   ]
  },
  {
   "cell_type": "markdown",
   "metadata": {},
   "source": [
    "### PCA - Helpers"
   ]
  },
  {
   "cell_type": "code",
   "execution_count": 2,
   "metadata": {},
   "outputs": [],
   "source": [
    "def plot_scatter(X, y, title, label_dict=None):\n",
    "    x_data = X[:,0]\n",
    "    y_data = X[:,1]\n",
    "    #now get the maskes according to the labels\n",
    "    vals = np.unique(y)\n",
    "    for val in vals:\n",
    "        mask = y == val\n",
    "        x_new = x_data[mask]\n",
    "        y_new = y_data[mask]\n",
    "        label='{}'.format(val)\n",
    "        if label_dict is not None:\n",
    "            label=label_dict[val]\n",
    "        plt.scatter(x_new, y_new, alpha=0.25, label=label)\n",
    "    plt.xlabel(\"First Component\")\n",
    "    plt.ylabel(\"Second Component\")\n",
    "    plt.title(title)\n",
    "    plt.legend()\n",
    "    plt.show()    \n",
    "def center_data(X):\n",
    "    \"\"\"Function for centering data for PCA\n",
    "    \"\"\"\n",
    "    u_hat = np.mean(X, axis=0)\n",
    "    return X - u_hat\n",
    "def normalize_data(X):\n",
    "    \"\"\"Function for normalization, fits between 0 and 1\n",
    "       use this function before centering the data\n",
    "    \"\"\"\n",
    "    X_maxs = np.max(X,axis=0)\n",
    "    X_mins = np.min(X,axis=0)\n",
    "    X =(X - X_mins)/(X_maxs - X_mins)\n",
    "    return X\n",
    "def variance_plots(X, y, dataset='Iris', maxm=None):\n",
    "    \"\"\"Get the data and create the plots for part iii of 12.2\n",
    "    \"\"\"\n",
    "    m,n = np.shape(X)\n",
    "    if (maxm is not None):\n",
    "        n = maxm\n",
    "    component_list = np.arange(1, n+1, 1)\n",
    "    #get the total variance\n",
    "    pca_1 = PCA(X)\n",
    "    total = np.sum(pca_1.variances)\n",
    "    var_list = np.zeros_like(component_list, dtype=float)\n",
    "    if maxm is None:\n",
    "        var_list[-1] = total/total\n",
    "    else:\n",
    "        pca_2 = PCA(X,n)\n",
    "        sm_total = np.sum(pca_2.variances)\n",
    "        var_list[-1] = sm_total/total\n",
    "    #now compute every other percentage\n",
    "    for s in range(1, n):\n",
    "        pca = PCA(X, s)\n",
    "        percent = np.sum(pca.variances)/total\n",
    "        var_list[s-1] = percent\n",
    "    plt.plot(component_list, var_list, label='cumulative, max:{}'.format(var_list[-1]))\n",
    "    plt.plot(component_list, pca_1.variances[:n]/total, label='scree')\n",
    "    plt.xlabel(\"Num Components\")\n",
    "    plt.ylabel(\"Covered Variance\")\n",
    "    plt.legend()\n",
    "    plt.title(\"Covered Variance and Components: {}\".format(dataset))\n",
    "    plt.show()\n",
    "#class for doing PCA\n",
    "class pca:\n",
    "    def __init__(self, X, s=None):\n",
    "        #define the initial values\n",
    "        self.X=X\n",
    "        m,n = np.shape(X)\n",
    "        self.s = s\n",
    "        if (s is None):\n",
    "            self.s = n\n",
    "        #get X svd\n",
    "        U, vals, v_h = la.svd(X, full_matrices=False)\n",
    "        #save the values\n",
    "        self.variances = np.square(vals)[:s]\n",
    "        self.v_h = v_h[:s,:]\n",
    "        self.U = U\n",
    "    def transform(self,x):\n",
    "        return (self.v_h @ x.T).T\n",
    "    def project(self, x):\n",
    "        components = self.transform(x)\n",
    "        return components @ self.v_h"
   ]
  },
  {
   "cell_type": "code",
   "execution_count": 3,
   "metadata": {},
   "outputs": [],
   "source": [
    "def prob1():\n",
    "    \"\"\"Recreate the plot in Figure 1 by performing \n",
    "    PCA on the breast cancer dataset.\n",
    "    Include in the graph title the amount of variance\n",
    "    captured by the first two principal components.\"\"\"\n",
    "    #load the dataset\n",
    "    cancer = datasets.load_breast_cancer()\n",
    "    X = cancer.data\n",
    "    y = cancer.target\n",
    "    #now normalize and center the data\n",
    "    #X_shift = normalize_data(X)\n",
    "    X_shift = center_data(X)\n",
    "    #now do PCA\n",
    "    ir_pca = pca(X_shift,2)\n",
    "    X_transform = ir_pca.transform(X_shift)\n",
    "    label_dict = {0:'Malignant',1:'Benign'}\n",
    "    plot_scatter(X_transform,y, title='2 Components on Cancer Dataset', label_dict=label_dict)"
   ]
  },
  {
   "cell_type": "code",
   "execution_count": 4,
   "metadata": {},
   "outputs": [
    {
     "data": {
      "image/png": "[encoded data removed]",
      "text/plain": [
       "<Figure size 432x288 with 1 Axes>"
      ]
     },
     "metadata": {
      "needs_background": "light"
     },
     "output_type": "display_data"
    }
   ],
   "source": [
    "prob1()"
   ]
  },
  {
   "cell_type": "markdown",
   "metadata": {},
   "source": [
    "## Problem 2\n",
    "Implement the function similar()"
   ]
  },
  {
   "cell_type": "code",
   "execution_count": 5,
   "metadata": {},
   "outputs": [],
   "source": [
    "def similar(i, Xhat):\n",
    "    \"\"\"\n",
    "    Takes an index and matrix representing the principal components and returns the indices of\n",
    "    the documents that are the most and least similar to i.\n",
    "    \n",
    "    Parameters:\n",
    "    i index of a document\n",
    "    Xhat decomposed data\n",
    "    \n",
    "    Returns:\n",
    "    index_min: index of the document most similar to document i\n",
    "    index_max: index of the document least similar to document i\n",
    "    \"\"\"\n",
    "    m,n = np.shape(Xhat)\n",
    "    #get the row that we are comparing too\n",
    "    Xhat_i = Xhat[i,:]\n",
    "    #now compute the computation results\n",
    "    values = np.sum(Xhat_i*Xhat, axis=1)/(la.norm(Xhat_i,2)*la.norm(Xhat,2,axis=1))\n",
    "    #now get the sorted args\n",
    "    args = np.argsort(values)\n",
    "    index_max = args[-2]\n",
    "    index_min = args[0]\n",
    "    return index_min, index_max"
   ]
  },
  {
   "cell_type": "markdown",
   "metadata": {},
   "source": [
    "### Function for Problem 3"
   ]
  },
  {
   "cell_type": "code",
   "execution_count": 6,
   "metadata": {},
   "outputs": [],
   "source": [
    "def document_converter():\n",
    "    '''\n",
    "    Converts speech documents into an n by m array where m is the number \n",
    "    of vocabulary words and n is the number of documents\n",
    "    \n",
    "    Returns:\n",
    "    X sparse matrix (n x m): Each row represents a document\n",
    "    paths (list): list where each element is a speech path eg: path[0] is './Addresses/1990-Bush.txt'\n",
    "    '''\n",
    "    # Get list of filepaths to each text file in the folder.\n",
    "    folder = \"./Addresses/\"\n",
    "    paths = [folder+p for p in os.listdir(folder) if p.endswith(\".txt\")]\n",
    "\n",
    "    # Helper function to get list of words in a string.\n",
    "    def extractWords(text):\n",
    "        ignore = string.punctuation + string.digits\n",
    "        cleaned = \"\".join([t for t in text.strip() if t not in ignore])\n",
    "        return cleaned.lower().split()\n",
    "\n",
    "    # Initialize vocab set, then read each file and add to the vocab set.\n",
    "    vocab = set()\n",
    "    for p in paths:\n",
    "        with open(p, 'r', encoding=\"utf8\") as infile:\n",
    "            for line in infile:\n",
    "                vocab.update(extractWords(line)) #union sets together\n",
    "\n",
    "\n",
    "    # load stopwords\n",
    "    with open(\"stopwords.txt\", 'r',  encoding=\"utf8\") as f:\n",
    "        stops = set([w.strip().lower() for w in f.readlines()])\n",
    "\n",
    "    # remove stopwords from vocabulary, create ordering\n",
    "    vocab = {w:i for i, w in enumerate(vocab.difference(stops))}\n",
    "\n",
    "\n",
    "    counts = []      # holds the entries of X\n",
    "    doc_index = []   # holds the row index of X\n",
    "    word_index = []  # holds the column index of X\n",
    "\n",
    "    # Iterate through the documents.\n",
    "    for doc, p in enumerate(paths):\n",
    "        with open(p, 'r', encoding=\"utf8\") as f:\n",
    "            # Create the word counter.\n",
    "            ctr = Counter()\n",
    "            for line in f:\n",
    "                ctr.update(extractWords(line))\n",
    "            # Iterate through the word counter, store counts.\n",
    "            for word, count in ctr.items():\n",
    "                if word in vocab:\n",
    "                    word_index.append(vocab[word])\n",
    "                    counts.append(count)\n",
    "                    doc_index.append(doc)\n",
    "\n",
    "    # Create sparse matrix holding these word counts.\n",
    "    X = sparse.csr_matrix((counts, [doc_index, word_index]),\n",
    "                           shape=(len(paths), len(vocab)), dtype=np.float)\n",
    "    return X, paths"
   ]
  },
  {
   "cell_type": "markdown",
   "metadata": {},
   "source": [
    "## Problem 3\n",
    "Use the function above and PCA to find speeches most and least similar to a given speech."
   ]
  },
  {
   "cell_type": "code",
   "execution_count": 7,
   "metadata": {},
   "outputs": [],
   "source": [
    "def prob3(speech, l=7):\n",
    "    \"\"\"\n",
    "    Uses LSI, applied to the word count matrix X, with the first 7 principal\n",
    "    components to find the most similar and least similar speeches\n",
    "\n",
    "    Parameters:\n",
    "        speech str: Path to speech eg: \"./Addresses/1984-Reagan.txt\"\n",
    "        l (int): Number of principal components\n",
    "\n",
    "    Returns:\n",
    "        tuple of str: (Most similar speech, least similar speech)\n",
    "    \"\"\"    \n",
    "    X, paths = document_converter()\n",
    "    #get the corresponding index\n",
    "    for it, speeches in enumerate(paths):\n",
    "        if (speeches == speech):\n",
    "            index_num = it\n",
    "    #do the svd\n",
    "    u,s,v_t = sparse.linalg.svds(X, k=l)\n",
    "    v = v_t.T\n",
    "    X_hat = X@v[:,:l]\n",
    "    #now get the index of the closest and furthest ones\n",
    "    ind_min, ind_max = similar(index_num, X_hat)\n",
    "    path_min = paths[ind_min]\n",
    "    path_max = paths[ind_max]\n",
    "    return (path_max[12:-4],path_min[12:-4])"
   ]
  },
  {
   "cell_type": "code",
   "execution_count": 8,
   "metadata": {},
   "outputs": [
    {
     "name": "stdout",
     "output_type": "stream",
     "text": [
      "('1988-Reagan', '1946-Truman')\n",
      "('2010-Obama', '1951-Truman')\n"
     ]
    }
   ],
   "source": [
    "#Run this box once you have written prob3()\n",
    "speech = './Addresses/1984-Reagan.txt'\n",
    "print(prob3(speech))\n",
    "\n",
    "speech = \"./Addresses/1993-Clinton.txt\"\n",
    "print(prob3(speech))"
   ]
  },
  {
   "cell_type": "markdown",
   "metadata": {},
   "source": [
    "## Problem 4\n",
    "Edit the end of the following function to return a weighted sparse matrix A."
   ]
  },
  {
   "cell_type": "code",
   "execution_count": 9,
   "metadata": {},
   "outputs": [],
   "source": [
    "def weighted_document_converter():\n",
    "    '''\n",
    "    Converts speech documents into an n by m array where m is the number \n",
    "    of vocabulary words and n is the number of documents. It gives weights\n",
    "    to the most important words in the vocabulary.\n",
    "    \n",
    "    Returns:\n",
    "    A (sparse matrix, n x m): Each row represents a document\n",
    "    paths (list): list where each element is a speech path eg: path[0] is './Addresses/1990-Bush.txt'\n",
    "    '''\n",
    "    # Get list of filepaths to each text file in the folder.\n",
    "    folder = \"./Addresses/\"\n",
    "    paths = [folder+p for p in os.listdir(folder) if p.endswith(\".txt\")]\n",
    "\n",
    "    # Helper function to get list of words in a string.\n",
    "    def extractWords(text):\n",
    "        ignore = string.punctuation + string.digits\n",
    "        cleaned = \"\".join([t for t in text.strip() if t not in ignore])\n",
    "        return cleaned.lower().split()\n",
    "\n",
    "    # Initialize vocab set, then read each file and add to the vocab set.\n",
    "    vocab = set()\n",
    "    for p in paths:\n",
    "        with open(p, 'r', encoding=\"utf8\") as infile:\n",
    "            for line in infile:\n",
    "                vocab.update(extractWords(line)) #union sets together\n",
    "\n",
    "\n",
    "    # load stopwords\n",
    "    with open(\"stopwords.txt\", 'r',  encoding=\"utf8\") as f:\n",
    "        stops = set([w.strip().lower() for w in f.readlines()])\n",
    "\n",
    "    # remove stopwords from vocabulary, create ordering\n",
    "    vocab = {w:i for i, w in enumerate(vocab.difference(stops))}\n",
    "\n",
    "    t = np.zeros(len(vocab))\n",
    "    counts = []      # holds the entries of X\n",
    "    doc_index = []   # holds the row index of X\n",
    "    word_index = []  # holds the column index of X\n",
    "\n",
    "    # Iterate through the documents.\n",
    "    for doc, p in enumerate(paths):\n",
    "        with open(p, 'r', encoding=\"utf8\") as f:\n",
    "            # Create the word counter.\n",
    "            ctr = Counter()\n",
    "            for line in f:\n",
    "                ctr.update(extractWords(line))\n",
    "            # Iterate through the word counter, store counts.\n",
    "            for word, count in ctr.items():\n",
    "                if word in vocab:\n",
    "                    word_ind = vocab[word]\n",
    "                    word_index.append(word_ind)\n",
    "                    counts.append(count)\n",
    "                    doc_index.append(doc)\n",
    "                    t[word_ind] += count\n",
    "                    \n",
    "    # get global weights\n",
    "    X = sparse.csr_matrix((counts, [doc_index, word_index]),\n",
    "                           shape=(len(paths), len(vocab)), dtype=np.float)\n",
    "    m,n = X.shape\n",
    "    p = np.array(X/X.sum(axis=1))\n",
    "    g = 1 + np.sum(p*np.log(p+1)/np.log(m), axis=1)\n",
    "    g = g.reshape(-1,1)\n",
    "    counts = np.log(np.array(counts)+1)\n",
    "    A = sparse.csr_matrix((counts, [doc_index, word_index]),\n",
    "                           shape=(len(paths), len(vocab)), dtype=np.float).multiply(g)\n",
    "    return A, paths"
   ]
  },
  {
   "cell_type": "markdown",
   "metadata": {},
   "source": [
    "## Problem 5\n",
    "Use the weighted_document_converter() function above and scikit-learn's PCA to find speeches most and least similar to a given speech."
   ]
  },
  {
   "cell_type": "code",
   "execution_count": 10,
   "metadata": {},
   "outputs": [],
   "source": [
    "def prob5(speech, l=7):\n",
    "    \"\"\"\n",
    "    Uses LSI, applied to the globally weighted word count matrix A, with the\n",
    "    first 7 principal components to find the most similar and least similar speeches\n",
    "\n",
    "    Parameters:\n",
    "        speech str: Path to speech eg: \"./Addresses/1984-Reagan.txt\"\n",
    "        l (int): Number of principal components\n",
    "\n",
    "    Returns:\n",
    "        tuple of str: (Most similar speech, least similar speech)\n",
    "    \"\"\"\n",
    "    X, paths = weighted_document_converter()\n",
    "    #get the corresponding index\n",
    "    for it, speeches in enumerate(paths):\n",
    "        if (speeches == speech):\n",
    "            index_num = it\n",
    "    pca_mod = PCA(n_components=l, random_state=27)\n",
    "    X_hat = pca_mod.fit_transform(X.toarray())\n",
    "    #now get the index of the closest and furthest ones\n",
    "    ind_min, ind_max = similar(index_num, X_hat)\n",
    "    path_min = paths[ind_min]\n",
    "    path_max = paths[ind_max]\n",
    "    return (path_max[12:-4],path_min[12:-4])"
   ]
  },
  {
   "cell_type": "code",
   "execution_count": 11,
   "metadata": {},
   "outputs": [
    {
     "name": "stdout",
     "output_type": "stream",
     "text": [
      "('1985-Reagan', '1961-Kennedy')\n",
      "('1994-Clinton', '1951-Truman')\n"
     ]
    }
   ],
   "source": [
    "#Run this box after you have completed prob5()\n",
    "speech = './Addresses/1984-Reagan.txt'\n",
    "print(prob5(speech))\n",
    "\n",
    "speech = \"./Addresses/1993-Clinton.txt\"\n",
    "print(prob5(speech))"
   ]
  },
  {
   "cell_type": "markdown",
   "metadata": {},
   "source": [
    "## Problem 6\n",
    "- Split the breast cancer dataset into training and testing sets using random_state=2\n",
    "- Fit KNeighborsClassifier and RandomForestClassifier to the training data\n",
    "- Predict labels for the testing set\n",
    "- Print a classification_report for each classifier\n",
    "- Write a few sentences explaining which classifier would be better to use in this situation and why"
   ]
  },
  {
   "cell_type": "code",
   "execution_count": 12,
   "metadata": {},
   "outputs": [
    {
     "name": "stdout",
     "output_type": "stream",
     "text": [
      "KNN Report\n",
      "              precision    recall  f1-score   support\n",
      "\n",
      "           0       0.91      0.89      0.90        56\n",
      "           1       0.93      0.94      0.94        87\n",
      "\n",
      "    accuracy                           0.92       143\n",
      "   macro avg       0.92      0.92      0.92       143\n",
      "weighted avg       0.92      0.92      0.92       143\n",
      "\n",
      "\n",
      "\n",
      "\n",
      "Rf Report\n",
      "              precision    recall  f1-score   support\n",
      "\n",
      "           0       0.91      0.91      0.91        56\n",
      "           1       0.94      0.94      0.94        87\n",
      "\n",
      "    accuracy                           0.93       143\n",
      "   macro avg       0.93      0.93      0.93       143\n",
      "weighted avg       0.93      0.93      0.93       143\n",
      "\n"
     ]
    }
   ],
   "source": [
    "#load the dataset\n",
    "cancer = datasets.load_breast_cancer()\n",
    "X = cancer.data\n",
    "y = cancer.target\n",
    "X_train, X_test, y_train, y_test = train_test_split(X,y, random_state=2)\n",
    "#KNeighbors classifier\n",
    "knn = KNeighborsClassifier()\n",
    "knn.fit(X_train, y_train)\n",
    "y_hat = knn.predict(X_test)\n",
    "report_knn = classification_report(y_test, y_hat)\n",
    "print(\"KNN Report\")\n",
    "print(report_knn)\n",
    "#Random Forest Classifier\n",
    "rf = RandomForestClassifier()\n",
    "rf.fit(X_train, y_train)\n",
    "y_hat_rf = rf.predict(X_test)\n",
    "report_rf = classification_report(y_test, y_hat_rf)\n",
    "print('\\n\\n')\n",
    "print(\"Rf Report\")\n",
    "print(report_rf)"
   ]
  },
  {
   "cell_type": "markdown",
   "metadata": {},
   "source": [
    "In this case, I would say that it is probably most important that there is not a false negative, meaning that you do not want to predict that a person has a benign tumor if it is in fact malignant. Because, in this case 1 means benign, we probably would want to look at the recall of the 0 variable. In this case, Random Forest outperformed K Nearest Neighbors."
   ]
  },
  {
   "cell_type": "markdown",
   "metadata": {},
   "source": [
    "## Problem 7\n",
    "- Use the breast cancer dataset split from Problem 6\n",
    "- Run a GridSearch with a RandomForestClassifier, modifying at least three parameters.\n",
    "- Use scoring=\"f1\"\n",
    "- Print out best_params_ and best_score_\n",
    "- Print a confusion matrix for the test data"
   ]
  },
  {
   "cell_type": "code",
   "execution_count": 13,
   "metadata": {},
   "outputs": [
    {
     "name": "stdout",
     "output_type": "stream",
     "text": [
      "{'max_depth': 12, 'min_samples_leaf': 10, 'n_estimators': 50}\n",
      "Best Score: 0.9632286148791336\n",
      "\n",
      "\n",
      "[[52  4]\n",
      " [ 6 81]]\n"
     ]
    }
   ],
   "source": [
    "rf = RandomForestClassifier()\n",
    "param_grid = {'min_samples_leaf': [10,20,30,50,100], 'max_depth': [5,7,12,20], 'n_estimators':[25,50,100,150]}\n",
    "rf_gs = GridSearchCV(rf, param_grid, scoring=\"f1\", n_jobs=-1)\n",
    "rf_gs.fit(X_train, y_train)\n",
    "#print out the best params\n",
    "print(rf_gs.best_params_, \"Best Score: {}\".format(rf_gs.best_score_), sep='\\n')  \n",
    "#now use the best params to get confusion matrix for the test data\n",
    "rf_best = rf_gs.best_estimator_\n",
    "rf_best.fit(X_train, y_train)\n",
    "y_hat = rf_best.predict(X_test)\n",
    "CM =  confusion_matrix(y_test, y_hat)\n",
    "print('\\n')\n",
    "print(CM)"
   ]
  },
  {
   "cell_type": "markdown",
   "metadata": {},
   "source": [
    "## Problem 8\n",
    "- Create a pipeline with a StandardScaler, PCA, and a KNeighborsClassifier\n",
    "- Do a grid search, modifying at least 6 parameters\n",
    "- Print your best parameters and best score (f1)\n",
    "- Get a score of at least .96"
   ]
  },
  {
   "cell_type": "code",
   "execution_count": 14,
   "metadata": {},
   "outputs": [
    {
     "name": "stdout",
     "output_type": "stream",
     "text": [
      "{'knn__n_neighbors': 6, 'knn__weights': 'distance', 'pca__n_components': 5, 'pca__svd_solver': 'full', 'scaler__with_mean': True, 'scaler__with_std': True}\n",
      "0.9763788141769794\n"
     ]
    }
   ],
   "source": [
    "pipe = Pipeline([(\"scaler\",StandardScaler()),(\"pca\", PCA()), (\"knn\", KNeighborsClassifier())])\n",
    "pipe_param_grid = {\"scaler__with_mean\": [True, False],\n",
    "                   \"scaler__with_std\": [True, False],\n",
    "                   'knn__n_neighbors':[2,3,4,5,6],\n",
    "                   'knn__weights':[\"uniform\", \"distance\"],\n",
    "                   'pca__svd_solver':['full','arpack','randomized'],\n",
    "                   'pca__n_components':[1,2,3,4,5]}\n",
    "pipe_gs = GridSearchCV(pipe, pipe_param_grid, n_jobs=-1, scoring='f1').fit(X_train, y_train)\n",
    "print(pipe_gs.best_params_, pipe_gs.best_score_, sep='\\n')\n"
   ]
  },
  {
   "cell_type": "code",
   "execution_count": null,
   "metadata": {},
   "outputs": [],
   "source": []
  }
 ],
 "metadata": {
  "kernelspec": {
   "display_name": "Python 3",
   "language": "python",
   "name": "python3"
  },
  "language_info": {
   "codemirror_mode": {
    "name": "ipython",
    "version": 3
   },
   "file_extension": ".py",
   "mimetype": "text/x-python",
   "name": "python",
   "nbconvert_exporter": "python",
   "pygments_lexer": "ipython3",
   "version": "3.8.3"
  }
 },
 "nbformat": 4,
 "nbformat_minor": 4
}
